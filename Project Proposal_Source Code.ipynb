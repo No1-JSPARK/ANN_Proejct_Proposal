{
  "nbformat": 4,
  "nbformat_minor": 0,
  "metadata": {
    "colab": {
      "provenance": [],
      "collapsed_sections": [],
      "authorship_tag": "ABX9TyNhf7fo6W4GNE94odoakUEx",
      "include_colab_link": true
    },
    "kernelspec": {
      "name": "python3",
      "display_name": "Python 3"
    },
    "language_info": {
      "name": "python"
    },
    "accelerator": "GPU"
  },
  "cells": [
    {
      "cell_type": "markdown",
      "metadata": {
        "id": "view-in-github",
        "colab_type": "text"
      },
      "source": [
        "<a href=\"https://colab.research.google.com/github/No1-JSPARK/ANN_Proejct_Proposal/blob/main/Project%20Proposal_Source%20Code.ipynb\" target=\"_parent\"><img src=\"https://colab.research.google.com/assets/colab-badge.svg\" alt=\"Open In Colab\"/></a>"
      ]
    },
    {
      "cell_type": "code",
      "execution_count": 1,
      "metadata": {
        "id": "lMCi9D1hhr5o"
      },
      "outputs": [],
      "source": [
        "import numpy as np\n",
        "import pandas as pd"
      ]
    },
    {
      "cell_type": "code",
      "source": [
        "import torch\n",
        "import torch.nn as nn\n",
        "from torchvision import transforms, models\n",
        "from torch.utils.data import Dataset, DataLoader"
      ],
      "metadata": {
        "id": "jN6239aMklaj"
      },
      "execution_count": 2,
      "outputs": []
    },
    {
      "cell_type": "code",
      "source": [
        "from sklearn.model_selection import train_test_split"
      ],
      "metadata": {
        "id": "SduwQzQKnsKW"
      },
      "execution_count": 3,
      "outputs": []
    },
    {
      "cell_type": "code",
      "source": [
        "import matplotlib.pyplot as plt\n",
        "import seaborn as sns"
      ],
      "metadata": {
        "id": "EzXfMOmln1c1"
      },
      "execution_count": 4,
      "outputs": []
    },
    {
      "cell_type": "code",
      "source": [
        "from google.colab import drive\n",
        "drive.mount('/content/drive')"
      ],
      "metadata": {
        "colab": {
          "base_uri": "https://localhost:8080/"
        },
        "id": "YBfWKmzbn9GL",
        "outputId": "0e9ff655-9394-4187-977f-fea95d4b2987"
      },
      "execution_count": 5,
      "outputs": [
        {
          "output_type": "stream",
          "name": "stdout",
          "text": [
            "Mounted at /content/drive\n"
          ]
        }
      ]
    },
    {
      "cell_type": "code",
      "source": [
        "import os\n",
        "os.chdir('/content/drive/MyDrive/Project1')"
      ],
      "metadata": {
        "id": "kwj8Ab7ao4n9"
      },
      "execution_count": 6,
      "outputs": []
    },
    {
      "cell_type": "code",
      "source": [
        "!pwd"
      ],
      "metadata": {
        "colab": {
          "base_uri": "https://localhost:8080/"
        },
        "id": "hYwVeA3epEj7",
        "outputId": "b8d87c59-6bd8-48e3-f877-ed773543cab4"
      },
      "execution_count": 7,
      "outputs": [
        {
          "output_type": "stream",
          "name": "stdout",
          "text": [
            "/content/drive/MyDrive/Project1\n"
          ]
        }
      ]
    },
    {
      "cell_type": "code",
      "source": [
        "train_data=pd.read_csv('./sign_mnist_train.csv')\n",
        "test_data=pd.read_csv('./sign_mnist_test.csv')"
      ],
      "metadata": {
        "id": "FmmA2m3wpZ5n"
      },
      "execution_count": 8,
      "outputs": []
    },
    {
      "cell_type": "code",
      "source": [
        "print(train_data.shape, test_data.shape)"
      ],
      "metadata": {
        "colab": {
          "base_uri": "https://localhost:8080/"
        },
        "id": "qw2qVL7QqlDC",
        "outputId": "8aadbf51-2d20-47b3-ec36-52636cd2bc98"
      },
      "execution_count": 9,
      "outputs": [
        {
          "output_type": "stream",
          "name": "stdout",
          "text": [
            "(27455, 785) (7172, 785)\n"
          ]
        }
      ]
    },
    {
      "cell_type": "code",
      "source": [
        "train_data.head(3)"
      ],
      "metadata": {
        "colab": {
          "base_uri": "https://localhost:8080/",
          "height": 173
        },
        "id": "lTPYOb6VqsrI",
        "outputId": "eae11d0a-a7a8-496c-de44-47db15535e28"
      },
      "execution_count": 10,
      "outputs": [
        {
          "output_type": "execute_result",
          "data": {
            "text/plain": [
              "   label  pixel1  pixel2  pixel3  pixel4  pixel5  pixel6  pixel7  pixel8  \\\n",
              "0      3     107     118     127     134     139     143     146     150   \n",
              "1      6     155     157     156     156     156     157     156     158   \n",
              "2      2     187     188     188     187     187     186     187     188   \n",
              "\n",
              "   pixel9  ...  pixel775  pixel776  pixel777  pixel778  pixel779  pixel780  \\\n",
              "0     153  ...       207       207       207       207       206       206   \n",
              "1     158  ...        69       149       128        87        94       163   \n",
              "2     187  ...       202       201       200       199       198       199   \n",
              "\n",
              "   pixel781  pixel782  pixel783  pixel784  \n",
              "0       206       204       203       202  \n",
              "1       175       103       135       149  \n",
              "2       198       195       194       195  \n",
              "\n",
              "[3 rows x 785 columns]"
            ],
            "text/html": [
              "\n",
              "  <div id=\"df-3ed541fe-89eb-4270-a48c-a31ff42759aa\">\n",
              "    <div class=\"colab-df-container\">\n",
              "      <div>\n",
              "<style scoped>\n",
              "    .dataframe tbody tr th:only-of-type {\n",
              "        vertical-align: middle;\n",
              "    }\n",
              "\n",
              "    .dataframe tbody tr th {\n",
              "        vertical-align: top;\n",
              "    }\n",
              "\n",
              "    .dataframe thead th {\n",
              "        text-align: right;\n",
              "    }\n",
              "</style>\n",
              "<table border=\"1\" class=\"dataframe\">\n",
              "  <thead>\n",
              "    <tr style=\"text-align: right;\">\n",
              "      <th></th>\n",
              "      <th>label</th>\n",
              "      <th>pixel1</th>\n",
              "      <th>pixel2</th>\n",
              "      <th>pixel3</th>\n",
              "      <th>pixel4</th>\n",
              "      <th>pixel5</th>\n",
              "      <th>pixel6</th>\n",
              "      <th>pixel7</th>\n",
              "      <th>pixel8</th>\n",
              "      <th>pixel9</th>\n",
              "      <th>...</th>\n",
              "      <th>pixel775</th>\n",
              "      <th>pixel776</th>\n",
              "      <th>pixel777</th>\n",
              "      <th>pixel778</th>\n",
              "      <th>pixel779</th>\n",
              "      <th>pixel780</th>\n",
              "      <th>pixel781</th>\n",
              "      <th>pixel782</th>\n",
              "      <th>pixel783</th>\n",
              "      <th>pixel784</th>\n",
              "    </tr>\n",
              "  </thead>\n",
              "  <tbody>\n",
              "    <tr>\n",
              "      <th>0</th>\n",
              "      <td>3</td>\n",
              "      <td>107</td>\n",
              "      <td>118</td>\n",
              "      <td>127</td>\n",
              "      <td>134</td>\n",
              "      <td>139</td>\n",
              "      <td>143</td>\n",
              "      <td>146</td>\n",
              "      <td>150</td>\n",
              "      <td>153</td>\n",
              "      <td>...</td>\n",
              "      <td>207</td>\n",
              "      <td>207</td>\n",
              "      <td>207</td>\n",
              "      <td>207</td>\n",
              "      <td>206</td>\n",
              "      <td>206</td>\n",
              "      <td>206</td>\n",
              "      <td>204</td>\n",
              "      <td>203</td>\n",
              "      <td>202</td>\n",
              "    </tr>\n",
              "    <tr>\n",
              "      <th>1</th>\n",
              "      <td>6</td>\n",
              "      <td>155</td>\n",
              "      <td>157</td>\n",
              "      <td>156</td>\n",
              "      <td>156</td>\n",
              "      <td>156</td>\n",
              "      <td>157</td>\n",
              "      <td>156</td>\n",
              "      <td>158</td>\n",
              "      <td>158</td>\n",
              "      <td>...</td>\n",
              "      <td>69</td>\n",
              "      <td>149</td>\n",
              "      <td>128</td>\n",
              "      <td>87</td>\n",
              "      <td>94</td>\n",
              "      <td>163</td>\n",
              "      <td>175</td>\n",
              "      <td>103</td>\n",
              "      <td>135</td>\n",
              "      <td>149</td>\n",
              "    </tr>\n",
              "    <tr>\n",
              "      <th>2</th>\n",
              "      <td>2</td>\n",
              "      <td>187</td>\n",
              "      <td>188</td>\n",
              "      <td>188</td>\n",
              "      <td>187</td>\n",
              "      <td>187</td>\n",
              "      <td>186</td>\n",
              "      <td>187</td>\n",
              "      <td>188</td>\n",
              "      <td>187</td>\n",
              "      <td>...</td>\n",
              "      <td>202</td>\n",
              "      <td>201</td>\n",
              "      <td>200</td>\n",
              "      <td>199</td>\n",
              "      <td>198</td>\n",
              "      <td>199</td>\n",
              "      <td>198</td>\n",
              "      <td>195</td>\n",
              "      <td>194</td>\n",
              "      <td>195</td>\n",
              "    </tr>\n",
              "  </tbody>\n",
              "</table>\n",
              "<p>3 rows × 785 columns</p>\n",
              "</div>\n",
              "      <button class=\"colab-df-convert\" onclick=\"convertToInteractive('df-3ed541fe-89eb-4270-a48c-a31ff42759aa')\"\n",
              "              title=\"Convert this dataframe to an interactive table.\"\n",
              "              style=\"display:none;\">\n",
              "        \n",
              "  <svg xmlns=\"http://www.w3.org/2000/svg\" height=\"24px\"viewBox=\"0 0 24 24\"\n",
              "       width=\"24px\">\n",
              "    <path d=\"M0 0h24v24H0V0z\" fill=\"none\"/>\n",
              "    <path d=\"M18.56 5.44l.94 2.06.94-2.06 2.06-.94-2.06-.94-.94-2.06-.94 2.06-2.06.94zm-11 1L8.5 8.5l.94-2.06 2.06-.94-2.06-.94L8.5 2.5l-.94 2.06-2.06.94zm10 10l.94 2.06.94-2.06 2.06-.94-2.06-.94-.94-2.06-.94 2.06-2.06.94z\"/><path d=\"M17.41 7.96l-1.37-1.37c-.4-.4-.92-.59-1.43-.59-.52 0-1.04.2-1.43.59L10.3 9.45l-7.72 7.72c-.78.78-.78 2.05 0 2.83L4 21.41c.39.39.9.59 1.41.59.51 0 1.02-.2 1.41-.59l7.78-7.78 2.81-2.81c.8-.78.8-2.07 0-2.86zM5.41 20L4 18.59l7.72-7.72 1.47 1.35L5.41 20z\"/>\n",
              "  </svg>\n",
              "      </button>\n",
              "      \n",
              "  <style>\n",
              "    .colab-df-container {\n",
              "      display:flex;\n",
              "      flex-wrap:wrap;\n",
              "      gap: 12px;\n",
              "    }\n",
              "\n",
              "    .colab-df-convert {\n",
              "      background-color: #E8F0FE;\n",
              "      border: none;\n",
              "      border-radius: 50%;\n",
              "      cursor: pointer;\n",
              "      display: none;\n",
              "      fill: #1967D2;\n",
              "      height: 32px;\n",
              "      padding: 0 0 0 0;\n",
              "      width: 32px;\n",
              "    }\n",
              "\n",
              "    .colab-df-convert:hover {\n",
              "      background-color: #E2EBFA;\n",
              "      box-shadow: 0px 1px 2px rgba(60, 64, 67, 0.3), 0px 1px 3px 1px rgba(60, 64, 67, 0.15);\n",
              "      fill: #174EA6;\n",
              "    }\n",
              "\n",
              "    [theme=dark] .colab-df-convert {\n",
              "      background-color: #3B4455;\n",
              "      fill: #D2E3FC;\n",
              "    }\n",
              "\n",
              "    [theme=dark] .colab-df-convert:hover {\n",
              "      background-color: #434B5C;\n",
              "      box-shadow: 0px 1px 3px 1px rgba(0, 0, 0, 0.15);\n",
              "      filter: drop-shadow(0px 1px 2px rgba(0, 0, 0, 0.3));\n",
              "      fill: #FFFFFF;\n",
              "    }\n",
              "  </style>\n",
              "\n",
              "      <script>\n",
              "        const buttonEl =\n",
              "          document.querySelector('#df-3ed541fe-89eb-4270-a48c-a31ff42759aa button.colab-df-convert');\n",
              "        buttonEl.style.display =\n",
              "          google.colab.kernel.accessAllowed ? 'block' : 'none';\n",
              "\n",
              "        async function convertToInteractive(key) {\n",
              "          const element = document.querySelector('#df-3ed541fe-89eb-4270-a48c-a31ff42759aa');\n",
              "          const dataTable =\n",
              "            await google.colab.kernel.invokeFunction('convertToInteractive',\n",
              "                                                     [key], {});\n",
              "          if (!dataTable) return;\n",
              "\n",
              "          const docLinkHtml = 'Like what you see? Visit the ' +\n",
              "            '<a target=\"_blank\" href=https://colab.research.google.com/notebooks/data_table.ipynb>data table notebook</a>'\n",
              "            + ' to learn more about interactive tables.';\n",
              "          element.innerHTML = '';\n",
              "          dataTable['output_type'] = 'display_data';\n",
              "          await google.colab.output.renderOutput(dataTable, element);\n",
              "          const docLink = document.createElement('div');\n",
              "          docLink.innerHTML = docLinkHtml;\n",
              "          element.appendChild(docLink);\n",
              "        }\n",
              "      </script>\n",
              "    </div>\n",
              "  </div>\n",
              "  "
            ]
          },
          "metadata": {},
          "execution_count": 10
        }
      ]
    },
    {
      "cell_type": "code",
      "source": [
        "device = torch.device('cuda:0')"
      ],
      "metadata": {
        "id": "PJ_RMZM3z0IB"
      },
      "execution_count": 11,
      "outputs": []
    },
    {
      "cell_type": "code",
      "source": [
        "class mnist_dataset(Dataset):\n",
        "\n",
        "    def __init__(self, df):\n",
        "      self.inp = df.iloc[:,1:].values.reshape(df.shape[0],28,28)\n",
        "      self.outp = df.iloc[:,0].values.reshape(df.shape[0],1)\n",
        "    \n",
        "    def __len__(self):\n",
        "      return len(self.inp)\n",
        "    \n",
        "    def __getitem__(self,idx):\n",
        "      inp=torch.FloatTensor(self.inp[idx]).unsqueeze(0).to(device)\n",
        "      outp=torch.LongTensor(self.outp[idx]).squeeze().to(device)\n",
        "      return inp, outp"
      ],
      "metadata": {
        "id": "8szPOYD00KwL"
      },
      "execution_count": 12,
      "outputs": []
    },
    {
      "cell_type": "code",
      "source": [
        "train, valid = train_test_split(train_data, test_size=0.2)\n",
        "batch_size = 128\n",
        "valid_dl = DataLoader(mnist_dataset(valid),batch_size, shuffle=False)\n",
        "train_dl = DataLoader(mnist_dataset(train),batch_size, shuffle=True)\n",
        "\n",
        "x,y=next(iter(train_dl))\n",
        "print(x.cpu().numpy().shape, y.cpu().numpy().shape)\n",
        "y[0]"
      ],
      "metadata": {
        "colab": {
          "base_uri": "https://localhost:8080/"
        },
        "id": "DmUstPor1U06",
        "outputId": "99ed0013-13e2-4070-dead-9eb014840e3d"
      },
      "execution_count": 13,
      "outputs": [
        {
          "output_type": "stream",
          "name": "stdout",
          "text": [
            "(128, 1, 28, 28) (128,)\n"
          ]
        },
        {
          "output_type": "execute_result",
          "data": {
            "text/plain": [
              "tensor(10, device='cuda:0')"
            ]
          },
          "metadata": {},
          "execution_count": 13
        }
      ]
    },
    {
      "cell_type": "code",
      "source": [
        "plt.figure(figsize=(10,5))\n",
        "sns.countplot(train[\"label\"])\n",
        "plt.show()"
      ],
      "metadata": {
        "colab": {
          "base_uri": "https://localhost:8080/",
          "height": 391
        },
        "id": "o4AKDenw18wK",
        "outputId": "bf585b66-0415-448a-a716-259ff0ca73f6"
      },
      "execution_count": 14,
      "outputs": [
        {
          "output_type": "stream",
          "name": "stderr",
          "text": [
            "/usr/local/lib/python3.7/dist-packages/seaborn/_decorators.py:43: FutureWarning: Pass the following variable as a keyword arg: x. From version 0.12, the only valid positional argument will be `data`, and passing other arguments without an explicit keyword will result in an error or misinterpretation.\n",
            "  FutureWarning\n"
          ]
        },
        {
          "output_type": "display_data",
          "data": {
            "text/plain": [
              "<Figure size 720x360 with 1 Axes>"
            ],
            "image/png": "[encoded data removed]"
          },
          "metadata": {
            "needs_background": "light"
          }
        }
      ]
    },
    {
      "cell_type": "code",
      "source": [
        "fig=plt.figure(figsize=(10,10),)\n",
        "\n",
        "for i in range(1,13):\n",
        "  img=train.iloc[i,1:]\n",
        "  label=train.iloc[i,0]\n",
        "  img=img.values.reshape(28,28)\n",
        "  ax = fig.add_subplot(3,4,i)\n",
        "  ax.set_title(chr(65+label))\n",
        "  ax.set_xticks([])\n",
        "  ax.set_yticks([])\n",
        "  plt.imshow(img, cmap='gray', vmin=0, vmax=255)\n",
        "plt.show()"
      ],
      "metadata": {
        "colab": {
          "base_uri": "https://localhost:8080/",
          "height": 555
        },
        "id": "ehiyaW2W6LlP",
        "outputId": "9203ddee-385c-4eed-a3e3-c16c7759b4d5"
      },
      "execution_count": 15,
      "outputs": [
        {
          "output_type": "display_data",
          "data": {
            "text/plain": [
              "<Figure size 720x720 with 12 Axes>"
            ],
            "image/png": "[encoded data removed]"
          },
          "metadata": {}
        }
      ]
    },
    {
      "cell_type": "code",
      "source": [
        "model = nn.Sequential()\n",
        "model.add_module('conv1', nn.Conv2d(in_channels=1, out_channels=32, kernel_size=5, padding=2))\n",
        "model.add_module('relu1', nn.ReLU())        \n",
        "model.add_module('pool1', nn.MaxPool2d(kernel_size=2))   \n",
        "model.add_module('conv2', nn.Conv2d(in_channels=32, out_channels=64, kernel_size=5, padding=2))\n",
        "model.add_module('relu2', nn.ReLU())        \n",
        "model.add_module('pool2', nn.MaxPool2d(kernel_size=2))      \n",
        "\n",
        "\n",
        "model.add_module('flatten', nn.Flatten()) \n",
        "\n",
        "\n",
        "model.add_module('fc1', nn.Linear(3136, 1024)) \n",
        "model.add_module('relu3', nn.ReLU()) \n",
        "model.add_module('dropout', nn.Dropout(p=0.5)) \n",
        "model.add_module('fc2', nn.Linear(1024, 25))"
      ],
      "metadata": {
        "id": "UUCRuv057Dwp"
      },
      "execution_count": 16,
      "outputs": []
    },
    {
      "cell_type": "code",
      "source": [
        "model = model.to(device)"
      ],
      "metadata": {
        "id": "FAHSxibE9XCD"
      },
      "execution_count": 17,
      "outputs": []
    },
    {
      "cell_type": "code",
      "source": [
        "loss_fn = nn.CrossEntropyLoss()\n",
        "optimizer = torch.optim.Adam(model.parameters(), lr=0.0001)\n",
        "\n",
        "def train(model, num_epochs, train_dl, valid_dl):\n",
        "    \n",
        "    loss_hist_train = [0] * num_epochs\n",
        "    accuracy_hist_train = [0] * num_epochs\n",
        "    loss_hist_valid = [0] * num_epochs\n",
        "    accuracy_hist_valid = [0] * num_epochs\n",
        "    \n",
        "    for epoch in range(num_epochs):\n",
        "        \n",
        "        model.train()\n",
        "        \n",
        "        for x_batch, y_batch in train_dl:\n",
        "            \n",
        "            pred = model(x_batch)\n",
        "            loss = loss_fn(pred, y_batch)\n",
        "            loss.backward()\n",
        "            optimizer.step()\n",
        "            optimizer.zero_grad()\n",
        "            \n",
        "            loss_hist_train[epoch] += loss.item()*y_batch.size(0)\n",
        "            is_correct = (torch.argmax(pred, dim=1) == y_batch).float()\n",
        "            accuracy_hist_train[epoch] += is_correct.sum().cpu()\n",
        "\n",
        "        loss_hist_train[epoch] /= len(train_dl.dataset)\n",
        "        accuracy_hist_train[epoch] /= len(train_dl.dataset)\n",
        "        \n",
        "        model.eval()\n",
        "        with torch.no_grad():\n",
        "            for x_batch, y_batch in valid_dl:\n",
        "                pred = model(x_batch)\n",
        "                loss = loss_fn(pred, y_batch)\n",
        "                loss_hist_valid[epoch] += loss.item()*y_batch.size(0) \n",
        "                is_correct = (torch.argmax(pred, dim=1) == y_batch).float() \n",
        "                accuracy_hist_valid[epoch] += is_correct.sum().cpu()\n",
        "\n",
        "        loss_hist_valid[epoch] /= len(valid_dl.dataset)\n",
        "        accuracy_hist_valid[epoch] /= len(valid_dl.dataset)\n",
        "        \n",
        "        print(f'Epoch {epoch+1} accuracy: {accuracy_hist_train[epoch]:.4f} val_accuracy: {accuracy_hist_valid[epoch]:.4f}')\n",
        "    return loss_hist_train, loss_hist_valid, accuracy_hist_train, accuracy_hist_valid\n",
        "\n",
        "torch.manual_seed(1)\n",
        "num_epochs = 100\n",
        "hist = train(model, num_epochs, train_dl, valid_dl)"
      ],
      "metadata": {
        "colab": {
          "base_uri": "https://localhost:8080/"
        },
        "id": "cyvuCP6-TgBY",
        "outputId": "df3f8196-4fb3-4960-e6fa-4cefc82e70ce"
      },
      "execution_count": 18,
      "outputs": [
        {
          "output_type": "stream",
          "name": "stdout",
          "text": [
            "Epoch 1 accuracy: 0.4519 val_accuracy: 0.8794\n",
            "Epoch 2 accuracy: 0.8795 val_accuracy: 0.9885\n",
            "Epoch 3 accuracy: 0.9692 val_accuracy: 0.9989\n",
            "Epoch 4 accuracy: 0.9915 val_accuracy: 0.9998\n",
            "Epoch 5 accuracy: 0.9949 val_accuracy: 1.0000\n",
            "Epoch 6 accuracy: 0.9979 val_accuracy: 1.0000\n",
            "Epoch 7 accuracy: 0.9989 val_accuracy: 1.0000\n",
            "Epoch 8 accuracy: 0.9991 val_accuracy: 1.0000\n",
            "Epoch 9 accuracy: 0.9988 val_accuracy: 1.0000\n",
            "Epoch 10 accuracy: 0.9985 val_accuracy: 1.0000\n",
            "Epoch 11 accuracy: 0.9996 val_accuracy: 1.0000\n",
            "Epoch 12 accuracy: 0.9995 val_accuracy: 1.0000\n",
            "Epoch 13 accuracy: 0.9993 val_accuracy: 1.0000\n",
            "Epoch 14 accuracy: 0.9995 val_accuracy: 1.0000\n",
            "Epoch 15 accuracy: 0.9985 val_accuracy: 1.0000\n",
            "Epoch 16 accuracy: 0.9995 val_accuracy: 1.0000\n",
            "Epoch 17 accuracy: 0.9992 val_accuracy: 1.0000\n",
            "Epoch 18 accuracy: 0.9984 val_accuracy: 0.9993\n",
            "Epoch 19 accuracy: 0.9976 val_accuracy: 1.0000\n",
            "Epoch 20 accuracy: 0.9996 val_accuracy: 0.9996\n",
            "Epoch 21 accuracy: 0.9972 val_accuracy: 1.0000\n",
            "Epoch 22 accuracy: 0.9985 val_accuracy: 1.0000\n",
            "Epoch 23 accuracy: 0.9995 val_accuracy: 1.0000\n",
            "Epoch 24 accuracy: 1.0000 val_accuracy: 1.0000\n",
            "Epoch 25 accuracy: 0.9997 val_accuracy: 1.0000\n",
            "Epoch 26 accuracy: 0.9999 val_accuracy: 1.0000\n",
            "Epoch 27 accuracy: 0.9999 val_accuracy: 1.0000\n",
            "Epoch 28 accuracy: 0.9999 val_accuracy: 1.0000\n",
            "Epoch 29 accuracy: 0.9998 val_accuracy: 1.0000\n",
            "Epoch 30 accuracy: 0.9930 val_accuracy: 1.0000\n",
            "Epoch 31 accuracy: 0.9980 val_accuracy: 1.0000\n",
            "Epoch 32 accuracy: 0.9997 val_accuracy: 1.0000\n",
            "Epoch 33 accuracy: 1.0000 val_accuracy: 1.0000\n",
            "Epoch 34 accuracy: 1.0000 val_accuracy: 1.0000\n",
            "Epoch 35 accuracy: 1.0000 val_accuracy: 1.0000\n",
            "Epoch 36 accuracy: 0.9995 val_accuracy: 0.9998\n",
            "Epoch 37 accuracy: 0.9993 val_accuracy: 0.9995\n",
            "Epoch 38 accuracy: 0.9992 val_accuracy: 1.0000\n",
            "Epoch 39 accuracy: 0.9981 val_accuracy: 1.0000\n",
            "Epoch 40 accuracy: 0.9996 val_accuracy: 1.0000\n",
            "Epoch 41 accuracy: 1.0000 val_accuracy: 1.0000\n",
            "Epoch 42 accuracy: 0.9996 val_accuracy: 1.0000\n",
            "Epoch 43 accuracy: 0.9997 val_accuracy: 1.0000\n",
            "Epoch 44 accuracy: 0.9999 val_accuracy: 1.0000\n",
            "Epoch 45 accuracy: 0.9974 val_accuracy: 1.0000\n",
            "Epoch 46 accuracy: 0.9986 val_accuracy: 1.0000\n",
            "Epoch 47 accuracy: 0.9994 val_accuracy: 1.0000\n",
            "Epoch 48 accuracy: 0.9998 val_accuracy: 1.0000\n",
            "Epoch 49 accuracy: 1.0000 val_accuracy: 1.0000\n",
            "Epoch 50 accuracy: 1.0000 val_accuracy: 1.0000\n",
            "Epoch 51 accuracy: 0.9999 val_accuracy: 1.0000\n",
            "Epoch 52 accuracy: 0.9980 val_accuracy: 1.0000\n",
            "Epoch 53 accuracy: 0.9993 val_accuracy: 1.0000\n",
            "Epoch 54 accuracy: 0.9999 val_accuracy: 1.0000\n",
            "Epoch 55 accuracy: 0.9999 val_accuracy: 1.0000\n",
            "Epoch 56 accuracy: 1.0000 val_accuracy: 1.0000\n",
            "Epoch 57 accuracy: 1.0000 val_accuracy: 1.0000\n",
            "Epoch 58 accuracy: 1.0000 val_accuracy: 1.0000\n",
            "Epoch 59 accuracy: 0.9992 val_accuracy: 1.0000\n",
            "Epoch 60 accuracy: 1.0000 val_accuracy: 1.0000\n",
            "Epoch 61 accuracy: 1.0000 val_accuracy: 1.0000\n",
            "Epoch 62 accuracy: 0.9996 val_accuracy: 1.0000\n",
            "Epoch 63 accuracy: 0.9986 val_accuracy: 1.0000\n",
            "Epoch 64 accuracy: 0.9995 val_accuracy: 1.0000\n",
            "Epoch 65 accuracy: 0.9998 val_accuracy: 1.0000\n",
            "Epoch 66 accuracy: 0.9998 val_accuracy: 1.0000\n",
            "Epoch 67 accuracy: 1.0000 val_accuracy: 1.0000\n",
            "Epoch 68 accuracy: 1.0000 val_accuracy: 1.0000\n",
            "Epoch 69 accuracy: 0.9998 val_accuracy: 1.0000\n",
            "Epoch 70 accuracy: 0.9998 val_accuracy: 1.0000\n",
            "Epoch 71 accuracy: 0.9997 val_accuracy: 1.0000\n",
            "Epoch 72 accuracy: 0.9998 val_accuracy: 1.0000\n",
            "Epoch 73 accuracy: 0.9999 val_accuracy: 1.0000\n",
            "Epoch 74 accuracy: 1.0000 val_accuracy: 1.0000\n",
            "Epoch 75 accuracy: 1.0000 val_accuracy: 1.0000\n",
            "Epoch 76 accuracy: 0.9995 val_accuracy: 1.0000\n",
            "Epoch 77 accuracy: 0.9999 val_accuracy: 1.0000\n",
            "Epoch 78 accuracy: 0.9999 val_accuracy: 1.0000\n",
            "Epoch 79 accuracy: 0.9996 val_accuracy: 1.0000\n",
            "Epoch 80 accuracy: 0.9995 val_accuracy: 1.0000\n",
            "Epoch 81 accuracy: 1.0000 val_accuracy: 1.0000\n",
            "Epoch 82 accuracy: 0.9999 val_accuracy: 1.0000\n",
            "Epoch 83 accuracy: 1.0000 val_accuracy: 1.0000\n",
            "Epoch 84 accuracy: 1.0000 val_accuracy: 1.0000\n",
            "Epoch 85 accuracy: 1.0000 val_accuracy: 1.0000\n",
            "Epoch 86 accuracy: 1.0000 val_accuracy: 1.0000\n",
            "Epoch 87 accuracy: 1.0000 val_accuracy: 1.0000\n",
            "Epoch 88 accuracy: 1.0000 val_accuracy: 1.0000\n",
            "Epoch 89 accuracy: 0.9998 val_accuracy: 1.0000\n",
            "Epoch 90 accuracy: 1.0000 val_accuracy: 1.0000\n",
            "Epoch 91 accuracy: 1.0000 val_accuracy: 1.0000\n",
            "Epoch 92 accuracy: 0.9989 val_accuracy: 1.0000\n",
            "Epoch 93 accuracy: 1.0000 val_accuracy: 1.0000\n",
            "Epoch 94 accuracy: 1.0000 val_accuracy: 1.0000\n",
            "Epoch 95 accuracy: 1.0000 val_accuracy: 1.0000\n",
            "Epoch 96 accuracy: 1.0000 val_accuracy: 1.0000\n",
            "Epoch 97 accuracy: 1.0000 val_accuracy: 1.0000\n",
            "Epoch 98 accuracy: 1.0000 val_accuracy: 1.0000\n",
            "Epoch 99 accuracy: 0.9999 val_accuracy: 1.0000\n",
            "Epoch 100 accuracy: 0.9992 val_accuracy: 1.0000\n"
          ]
        }
      ]
    },
    {
      "cell_type": "code",
      "source": [
        "import matplotlib.pyplot as plt\n",
        "import numpy as np\n",
        "\n",
        "x_arr = np.arange(len(hist[0])) + 1\n",
        "fig = plt.figure(figsize=(12, 4))\n",
        "ax = fig.add_subplot(1, 2, 1)\n",
        "ax.plot(x_arr, hist[0], '-o', label='Train loss')\n",
        "ax.plot(x_arr, hist[1], '--<', label='Validation loss')\n",
        "ax.set_xlabel('Epoch', size=15)\n",
        "ax.set_ylabel('Loss', size=15)\n",
        "ax.legend(fontsize=15)\n",
        "ax = fig.add_subplot(1, 2, 2)\n",
        "ax.plot(x_arr, hist[2], '-o', label='Train acc.')\n",
        "ax.plot(x_arr, hist[3], '--<', label='Validation acc.')\n",
        "ax.legend(fontsize=15)\n",
        "ax.set_xlabel('Epoch', size=15)\n",
        "ax.set_ylabel('Accuracy', size=15)\n",
        "\n",
        "plt.show()"
      ],
      "metadata": {
        "colab": {
          "base_uri": "https://localhost:8080/",
          "height": 284
        },
        "id": "oXLaWCMyWGwN",
        "outputId": "14165912-39c1-42fe-e2f5-dc3e87f31a3c"
      },
      "execution_count": 19,
      "outputs": [
        {
          "output_type": "display_data",
          "data": {
            "text/plain": [
              "<Figure size 864x288 with 2 Axes>"
            ],
            "image/png": "[encoded data removed]"
          },
          "metadata": {
            "needs_background": "light"
          }
        }
      ]
    },
    {
      "cell_type": "code",
      "source": [
        "test_dl = DataLoader(mnist_dataset(test_data),shuffle=True)\n",
        "\n",
        "fig = plt.figure(figsize=(12,12))\n",
        "for i in range(1,13):\n",
        "    data, real_label = next(iter(test_dl))\n",
        "    pred = model(data)\n",
        "    pred_label = np.argmax(pred.cpu().detach().numpy())\n",
        "    img = data.cpu().numpy().reshape(28,28)\n",
        "    ax = fig.add_subplot(4, 3, i)\n",
        "    ax.set_title(\"real:\"+chr(65+real_label)+\" pred:\"+chr(65+pred_label))\n",
        "    ax.set_xticks([]); ax.set_yticks([])\n",
        "    plt.imshow(img, cmap='gray',vmin=0,vmax=255)\n",
        "plt.show()"
      ],
      "metadata": {
        "colab": {
          "base_uri": "https://localhost:8080/",
          "height": 703
        },
        "id": "IgPmV4rKWQPp",
        "outputId": "bdf2cc3a-013c-4c53-d9cc-832a5429331e"
      },
      "execution_count": 20,
      "outputs": [
        {
          "output_type": "display_data",
          "data": {
            "text/plain": [
              "<Figure size 864x864 with 12 Axes>"
            ],
            "image/png": "[encoded data removed]"
          },
          "metadata": {}
        }
      ]
    }
  ]
}